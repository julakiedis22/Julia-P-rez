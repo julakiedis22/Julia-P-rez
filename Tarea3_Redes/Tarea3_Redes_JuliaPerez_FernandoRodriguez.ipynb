{
 "cells": [
  {
   "cell_type": "markdown",
   "metadata": {},
   "source": [
    "# ANÁLISIS DE RED DE CO-EXPRESIÓN GÉNICA DE DIEZ FACTORES DE TRANSCRIPCIÓN FLORALES"
   ]
  },
  {
   "cell_type": "markdown",
   "metadata": {},
   "source": [
    "#### Julia Pérez Pérez y Fernando Rodríguez Marín"
   ]
  },
  {
   "cell_type": "markdown",
   "metadata": {},
   "source": [
    "# ÍNDICE\n",
    "* [INTRODUCCIÓN](#INTRODUCCIÓN)\n",
    "    - [Muestras](#Muestras)\n",
    "    - [Objetivo](#Objetivo)\n",
    "* [ANÁLISIS](#ANÁLISIS)\n",
    "    - [Construcción de la red de co-expresión génica](#Construcción-de-la-red-de-co-expresión-génica)\n",
    "    - [Análisis de la red de co-expresión génica](#Análisis-de-la-red-de-co-expresión-génica)\n",
    "* [CONCLUSIONES](#CONCLUSIONES)\n",
    "    - [Motivos de red en la floración: bucles de retroalimentación y autorregulación](#Motivos-de-red-en-la-floración:-bucles-de-retroalimentación-y-autorregulación)\n",
    "    - [Alta conectividad entre los genes relacionados con la floración](#Alta-conectividad-entre-los-genes-relacionados-con-la-floración)\n",
    "    - [Mecanismos de la red de co-expresión génica del desarrollo floral](#Mecanismos-de-la-red-de-co-expresión-génica-del-desarrollo-floral)\n",
    "* [BIBLIOGRAFÍA](#BIBLIOGRAFÍA)"
   ]
  },
  {
   "cell_type": "markdown",
   "metadata": {},
   "source": [
    "# INTRODUCCIÓN"
   ]
  },
  {
   "cell_type": "markdown",
   "metadata": {},
   "source": [
    "El objetivo de este estudio es comprobar el efecto de 10 factores de transcripción en la regulación de genes, implicados principalmente en el desarrollo embrionario y la floración. Se va a realizar en base a la construcción de una red génica, con la cual comprobaremos cómo de relacionados están dichos factores de transcripción, según la similitud funcional de los genes a los que regula."
   ]
  },
  {
   "cell_type": "markdown",
   "metadata": {},
   "source": [
    "En plantas, como en otros organismos, la expresión de genes específicos aumenta o disminuye en respuesta a factores ambientales y a un programa inherente de desarrollo. Los factores ambientales que afectan a la expresión génica en plantas incluyen la interacción con patógenos y factores abióticos como la luz, temperatura, anoxia, sequía, exceso y deficiencia de nutrientes. Los factores de desarrollo pueden ser temporales y/o espaciales y coinciden con procesos tales como la germinación, el desarrollo de órganos (raíces, hojas, etc.), la transición hacia la morfología floral, la senescencia, embriogénesis, desarrollo de la semilla y la maduración de frutos.\n",
    "Una de las formas más importantes de control de la expresión génica es la regulación transcripcional y dentro de ésta son los denominados factores de transcripción los que se encargan de llevarla a cabo de forma preferente. Los factores de transcripción son proteínas de localización nuclear que se unen a secuencias específicas de DNA y que modulan la expresión de los genes. En plantas superiores el estudio de estos factores es bastante escaso. En este artículo se recogen las características generales de los factores de transcripción de plantas mejor estudiados.\n",
    "\n",
    "En este caso, queremos centrar nuestro proyecto en la comprensión de cómo diferentes factores de transcripción regulan genes diferentes implicados en el desarrollo floral. Por tanto, antes de comenzar es necesario entender en qué consiste el proceso de floración. \n",
    "\n",
    "Las flores se componen típicamente de cuatro tipos de órganos, que están dispuestos en cuatro espirales florales. Desde el exterior de la flor hasta el centro, son sépalos, pétalos, estambres y carpelos (las subunidades del gineceo). El destino del desarrollo de estos diferentes tipos de órganos está especificado por un pequeño número de genes de identidad de órganos florales. Los genes de los órganos florales actúen de manera combinatoria y tienen funciones distintas durante el desarrollo de la flor, siendo necesarios los llamados genes de función A para la formación de sépalos y pétalos, genes de función B para el desarrollo de pétalos y estambres, y genes de función C para la formación de estambres y carpelos.\n"
   ]
  },
  {
   "cell_type": "markdown",
   "metadata": {},
   "source": [
    "### Muestras"
   ]
  },
  {
   "cell_type": "markdown",
   "metadata": {},
   "source": [
    "En este caso, se van a estudiar 10 factores de transcripción:\n",
    "\n",
    "- APETALA1 (AP1): importante al inicio de la floración. [GSE38358](https://www.ncbi.nlm.nih.gov/geo/query/acc.cgi?acc=GSE38358)\n",
    "- PISTILLATA (PI): controla la formación de pétalos y estambres durante el desarrollo de la flor de *Arabidopsis*. [GSE38358](https://www.ncbi.nlm.nih.gov/geo/query/acc.cgi?acc=GSE38358)\n",
    "- AGAMOUS (AG) es un regulador clave de *Arabidopsis thaliana*, en el desarrollo de flores, donde está involucrado en la formación de los órganos florales reproductivos, así como en el control de la determinación del meristemo. [GSE45939](https://www.ncbi.nlm.nih.gov/geo/query/acc.cgi?acc=GSE45939) \n",
    "- EARLY BOLTING IN SHORT DAYS (EBS), una proteína específica de plantas, desempeña un papel prominente en el control de la dormición de la semilla en Arabidopsis y en la represión de la floración. Se ha observado que mutantes de EBS tienen altos niveles de AGAMOUS, PISTILLATA y APETALA1. [GSE104368](https://www.ncbi.nlm.nih.gov/geo/query/acc.cgi?acc=GSE104368)\n",
    "- LEAFY (LFY) es un factor de transcripción que regula la diferenciación de de células indiferenciadas llamadas meristemas en flores en lugar de hojas con brotes asociados. Funciona en sinergia con APETALA1. [GSE96806](https://www.ncbi.nlm.nih.gov/geo/query/acc.cgi?acc=GSE96806)\n",
    "- SOC1, es un factor de trasncripción activador del desarrollo floral. Puede integrar señales del fotoperíodo, vernalización y vías de inducción floral autónomas. Se ha visto que regula al gen LEAFY (LFY). [GSE45846](https://www.ncbi.nlm.nih.gov/geo/query/acc.cgi?acc=GSE45846)\n",
    "- BPC, es un gen que controla la identidad del óvulo y está involucrado en el desarrollo del gineceo o pistilo. Se detecta en todo el órgano floral y en especial en el óvulo. [GSE95562](https://www.ncbi.nlm.nih.gov/geo/query/acc.cgi?acc=GSE95562)\n",
    "- BAF60, controla el desarrollo floral uniéndose a un loop específico del genoma denominado FLOWERING LOOP C (FLC) [GSE89346](https://www.ncbi.nlm.nih.gov/geo/query/acc.cgi?acc=GSE89346)\n",
    "- JAGGED, codifica para un factor transcripcional imprescindible para la formación de los órganos laterales y la correcta morfología de la flor, en concreto, de los estambres y carpelos. [GSE51537](https://www.ncbi.nlm.nih.gov/geo/query/acc.cgi?acc=GSE51537)\n",
    "- FRUITFULL, factor de transcripción que promueve la identidad temprana del meristemo floral en sinergia con APETALA1. Parece ser parcialmente redundante para la función de APETALA1 en la regulación ascendente de LEAFY. [GSE79554](https://www.ncbi.nlm.nih.gov/geo/query/acc.cgi?acc=GSE79554)"
   ]
  },
  {
   "cell_type": "markdown",
   "metadata": {},
   "source": [
    "### Objetivo"
   ]
  },
  {
   "cell_type": "markdown",
   "metadata": {},
   "source": [
    "El objetivo del proyecto es la construcción de una red de co-expresión génica para estudiar cómo 10 factores de transcripción se encargan de regular el desarrollo floral en *Arabidopsis thaliana* y cómo estos factores se relacionan entre sí."
   ]
  },
  {
   "cell_type": "markdown",
   "metadata": {},
   "source": [
    "# ANÁLISIS"
   ]
  },
  {
   "cell_type": "markdown",
   "metadata": {},
   "source": [
    "### Construcción de la red de co-expresión génica"
   ]
  },
  {
   "cell_type": "markdown",
   "metadata": {},
   "source": [
    "Para descargar el script completo de R haz click en el siguiente enlace: [Script de R](./tarea_redes.R)"
   ]
  },
  {
   "cell_type": "markdown",
   "metadata": {},
   "source": [
    "Las redes transcripcionales son redes dirigidas donde los genes se representan como nodos y, si están conectados, se unen mediante aristas. Estas redes, se construyen a partir de datos procesados de ChIP-seq. "
   ]
  },
  {
   "cell_type": "markdown",
   "metadata": {},
   "source": [
    "Tras realizar un procesamiento de datos de ChIP-Seq para 10 factores de transcripción diferentes, se guarda la anotación de dichos factores en un archivo llamado *targets.txt*. Antes de comenzar con la construcción de la red, es necesario leer el archivo *targets.txt* con la función *read.table*."
   ]
  },
  {
   "cell_type": "code",
   "execution_count": 18,
   "metadata": {},
   "outputs": [
    {
     "data": {
      "text/html": [
       "<table>\n",
       "<caption>A data.frame: 10 × 1</caption>\n",
       "<thead>\n",
       "\t<tr><th scope=col>V1</th></tr>\n",
       "\t<tr><th scope=col>&lt;chr&gt;</th></tr>\n",
       "</thead>\n",
       "<tbody>\n",
       "\t<tr><td>AT1G68480</td></tr>\n",
       "\t<tr><td>AT2G01930</td></tr>\n",
       "\t<tr><td>AT2G45660</td></tr>\n",
       "\t<tr><td>AT3G19080</td></tr>\n",
       "\t<tr><td>AT3G54340</td></tr>\n",
       "\t<tr><td>AT4G18960</td></tr>\n",
       "\t<tr><td>AT5G20240</td></tr>\n",
       "\t<tr><td>AT5G60910</td></tr>\n",
       "\t<tr><td>AT5G61850</td></tr>\n",
       "\t<tr><td>AT5G67450</td></tr>\n",
       "</tbody>\n",
       "</table>\n"
      ],
      "text/latex": [
       "A data.frame: 10 × 1\n",
       "\\begin{tabular}{r|l}\n",
       " V1\\\\\n",
       " <chr>\\\\\n",
       "\\hline\n",
       "\t AT1G68480\\\\\n",
       "\t AT2G01930\\\\\n",
       "\t AT2G45660\\\\\n",
       "\t AT3G19080\\\\\n",
       "\t AT3G54340\\\\\n",
       "\t AT4G18960\\\\\n",
       "\t AT5G20240\\\\\n",
       "\t AT5G60910\\\\\n",
       "\t AT5G61850\\\\\n",
       "\t AT5G67450\\\\\n",
       "\\end{tabular}\n"
      ],
      "text/markdown": [
       "\n",
       "A data.frame: 10 × 1\n",
       "\n",
       "| V1 &lt;chr&gt; |\n",
       "|---|\n",
       "| AT1G68480 |\n",
       "| AT2G01930 |\n",
       "| AT2G45660 |\n",
       "| AT3G19080 |\n",
       "| AT3G54340 |\n",
       "| AT4G18960 |\n",
       "| AT5G20240 |\n",
       "| AT5G60910 |\n",
       "| AT5G61850 |\n",
       "| AT5G67450 |\n",
       "\n"
      ],
      "text/plain": [
       "   V1       \n",
       "1  AT1G68480\n",
       "2  AT2G01930\n",
       "3  AT2G45660\n",
       "4  AT3G19080\n",
       "5  AT3G54340\n",
       "6  AT4G18960\n",
       "7  AT5G20240\n",
       "8  AT5G60910\n",
       "9  AT5G61850\n",
       "10 AT5G67450"
      ]
     },
     "metadata": {},
     "output_type": "display_data"
    },
    {
     "data": {
      "text/html": [
       "10"
      ],
      "text/latex": [
       "10"
      ],
      "text/markdown": [
       "10"
      ],
      "text/plain": [
       "[1] 10"
      ]
     },
     "metadata": {},
     "output_type": "display_data"
    }
   ],
   "source": [
    "tfs.data <- read.table(file = \"targets.txt\",as.is=TRUE)\n",
    "tfs.data\n",
    "tfs <- tfs.data[,1]\n",
    "length(tfs)"
   ]
  },
  {
   "cell_type": "markdown",
   "metadata": {},
   "source": [
    "Para construir una red asociada a los 10 factores de transcripción seleccionados, es necesario almacenar todos los potenciales genes diana de dichos factores en un vector que denominamos *genes.in.network*. Para ello, se realiza un bucle que lee cada uno de los ficheros *target.genes.txt* de los factores de transcripción que se obtienen del procesamiento de ChIP-seq."
   ]
  },
  {
   "cell_type": "code",
   "execution_count": 45,
   "metadata": {},
   "outputs": [
    {
     "data": {
      "text/html": [
       "15566"
      ],
      "text/latex": [
       "15566"
      ],
      "text/markdown": [
       "15566"
      ],
      "text/plain": [
       "[1] 15566"
      ]
     },
     "metadata": {},
     "output_type": "display_data"
    }
   ],
   "source": [
    "genes.in.network <- c()\n",
    "for(i in 1:length(tfs))\n",
    "{\n",
    "  current.tf.file <- paste(tfs[i],\".txt\",sep=\"\")\n",
    "  current.tf.data <- read.table(file=current.tf.file, as.is=TRUE)\n",
    "  current.tf.targets <- current.tf.data[,1]\n",
    "  genes.in.network <- c(genes.in.network,current.tf.targets)\n",
    "}\n",
    "\n",
    "genes.in.network <- unique(genes.in.network)\n",
    "length(genes.in.network)\n",
    "write.table(genes.in.network, file = \"genes.in.network.txt\")"
   ]
  },
  {
   "cell_type": "markdown",
   "metadata": {},
   "source": [
    "Llama la atención que con solo 10 factores de transcripción se obtengan un resultado de 15566 genes regulados por ellos. Estos genes son prácticamente la mitad de los genes de *Arabidopsis thaliana*. Aun así, hay que tener en cuenta, que los genes dianas obtenidos de ChIP-seq no siempre son realmente genes dianas, sino que son regiones en el genoma al que se une los factores de transcripción debido a que estos son muy promiscuos. Por esta razón, es interesante combinar un estudio ChIP-seq con un RNA-seq."
   ]
  },
  {
   "cell_type": "markdown",
   "metadata": {},
   "source": [
    "Uno de los pasos más importantes en la construcción de una red de co-expresión génica es la creación de una matriz de adyacencia. Dicha matriz tiene el mismo número de columnas y filas que los genes potencialmente diana de los factores de transcripción. A cada celda de esta matriz se le va a asignar un 0 si los genes correspondientes a esa posición (i,j) no se encuentran conectados, mientras que si están relacionados dicha celda se rellena con el número 1, significando que se trata de una posible diana de un factor de transcripción."
   ]
  },
  {
   "cell_type": "code",
   "execution_count": 20,
   "metadata": {},
   "outputs": [
    {
     "data": {
      "text/html": [
       "<table>\n",
       "<caption>A matrix: 4 × 4 of type dbl</caption>\n",
       "<thead>\n",
       "\t<tr><th></th><th scope=col>AT1G01140</th><th scope=col>AT1G01830</th><th scope=col>AT1G09440</th><th scope=col>AT1G09950</th></tr>\n",
       "</thead>\n",
       "<tbody>\n",
       "\t<tr><th scope=row>AT1G01140</th><td>0</td><td>0</td><td>0</td><td>0</td></tr>\n",
       "\t<tr><th scope=row>AT1G01830</th><td>0</td><td>0</td><td>0</td><td>0</td></tr>\n",
       "\t<tr><th scope=row>AT1G09440</th><td>0</td><td>0</td><td>0</td><td>0</td></tr>\n",
       "\t<tr><th scope=row>AT1G09950</th><td>0</td><td>0</td><td>0</td><td>0</td></tr>\n",
       "</tbody>\n",
       "</table>\n"
      ],
      "text/latex": [
       "A matrix: 4 × 4 of type dbl\n",
       "\\begin{tabular}{r|llll}\n",
       "  & AT1G01140 & AT1G01830 & AT1G09440 & AT1G09950\\\\\n",
       "\\hline\n",
       "\tAT1G01140 & 0 & 0 & 0 & 0\\\\\n",
       "\tAT1G01830 & 0 & 0 & 0 & 0\\\\\n",
       "\tAT1G09440 & 0 & 0 & 0 & 0\\\\\n",
       "\tAT1G09950 & 0 & 0 & 0 & 0\\\\\n",
       "\\end{tabular}\n"
      ],
      "text/markdown": [
       "\n",
       "A matrix: 4 × 4 of type dbl\n",
       "\n",
       "| <!--/--> | AT1G01140 | AT1G01830 | AT1G09440 | AT1G09950 |\n",
       "|---|---|---|---|---|\n",
       "| AT1G01140 | 0 | 0 | 0 | 0 |\n",
       "| AT1G01830 | 0 | 0 | 0 | 0 |\n",
       "| AT1G09440 | 0 | 0 | 0 | 0 |\n",
       "| AT1G09950 | 0 | 0 | 0 | 0 |\n",
       "\n"
      ],
      "text/plain": [
       "          AT1G01140 AT1G01830 AT1G09440 AT1G09950\n",
       "AT1G01140 0         0         0         0        \n",
       "AT1G01830 0         0         0         0        \n",
       "AT1G09440 0         0         0         0        \n",
       "AT1G09950 0         0         0         0        "
      ]
     },
     "metadata": {},
     "output_type": "display_data"
    }
   ],
   "source": [
    "adj.matrix <- matrix(0,nrow=length(genes.in.network),ncol=length(genes.in.network))\n",
    "\n",
    "rownames(adj.matrix) <- genes.in.network\n",
    "colnames(adj.matrix) <- genes.in.network\n",
    "\n",
    "adj.matrix[1:4,1:4]\n",
    "\n",
    "for(i in 1:length(tfs))\n",
    "{\n",
    "  current.tf <- tfs[i]\n",
    "  current.tf.file <- paste(current.tf, \".txt\",sep=\"\")\n",
    "  current.tf.data <- read.table(file=current.tf.file,as.is=TRUE)\n",
    "  current.tf.targets <- current.tf.data[,1]\n",
    "  adj.matrix[current.tf,current.tf.targets] <- 1\n",
    "}"
   ]
  },
  {
   "cell_type": "markdown",
   "metadata": {},
   "source": [
    "Una vez construida la matriz de adyacencia, ya se tienen todos los datos necesarios para el diseño de la red transcripcional. Para ello, se usa el paquete *igraph*, el cual permite la creación de la red de transcripción a partir de dicha matriz de adyacencia con la funcion *graph.adjacency*. Esta función genera una archivo *.gml* que podrá visualizarse con la herramienta *Cytoscape*. "
   ]
  },
  {
   "cell_type": "code",
   "execution_count": 21,
   "metadata": {},
   "outputs": [
    {
     "data": {
      "text/plain": [
       "IGRAPH 21dd5c3 DN-- 15566 27399 -- \n",
       "+ attr: id (v/n), name (v/c)\n",
       "+ edges from 21dd5c3 (vertex names):\n",
       " [1] AT1G68480->AT1G01140 AT1G68480->AT1G01830 AT1G68480->AT1G09440\n",
       " [4] AT1G68480->AT1G09950 AT1G68480->AT1G11120 AT1G68480->AT1G14430\n",
       " [7] AT1G68480->AT1G15370 AT1G68480->AT1G16500 AT1G68480->AT1G19050\n",
       "[10] AT1G68480->AT1G21730 AT1G68480->AT1G24625 AT1G68480->AT1G30320\n",
       "[13] AT1G68480->AT1G32360 AT1G68480->AT1G33250 AT1G68480->AT1G49520\n",
       "[16] AT1G68480->AT1G53090 AT1G68480->AT1G62870 AT1G68480->AT1G63820\n",
       "[19] AT1G68480->AT1G65810 AT1G68480->AT1G66140 AT1G68480->AT1G67500\n",
       "[22] AT1G68480->AT1G67510 AT1G68480->AT1G68480 AT1G68480->AT1G69420\n",
       "+ ... omitted several edges"
      ]
     },
     "metadata": {},
     "output_type": "display_data"
    }
   ],
   "source": [
    "library(igraph)\n",
    "\n",
    "gene.transcriptional.network <- graph.adjacency(adj.matrix, mode=\"directed\")\n",
    "write.graph(gene.transcriptional.network,file=\"transcriptional_gene_network.gml\",format=\"gml\")\n",
    "\n",
    "gene.transcriptional.network <- read.graph(file = \"transcriptional_gene_network.gml\", format = \"gml\")\n",
    "gene.transcriptional.network"
   ]
  },
  {
   "cell_type": "markdown",
   "metadata": {},
   "source": [
    "Se puede observar como el número total de nodos, es decir, de genes potencialmente regulados por los factores, es de 15566 mientras que el número de aristas, es decir, de conexiones entre los genes, es de 27399."
   ]
  },
  {
   "cell_type": "markdown",
   "metadata": {},
   "source": [
    "Para estudiar una red con estas características se necesita unos requerimientos computacionales muy altos. Por ello, se estudiará la red de coexpresión para los 10 factores de transcripción de estudio. "
   ]
  },
  {
   "cell_type": "code",
   "execution_count": 22,
   "metadata": {},
   "outputs": [
    {
     "data": {
      "text/plain": [
       "IGRAPH 21edf3a DN-- 10 43 -- \n",
       "+ attr: id (v/n), name (v/c)\n",
       "+ edges from 21edf3a (vertex names):\n",
       " [1] AT1G68480->AT1G68480 AT2G01930->AT1G68480 AT2G01930->AT2G01930\n",
       " [4] AT2G01930->AT2G45660 AT2G01930->AT3G19080 AT2G01930->AT3G54340\n",
       " [7] AT2G01930->AT4G18960 AT2G01930->AT5G20240 AT2G01930->AT5G60910\n",
       "[10] AT2G01930->AT5G61850 AT2G45660->AT2G45660 AT2G45660->AT3G54340\n",
       "[13] AT3G19080->AT2G01930 AT3G19080->AT2G45660 AT3G19080->AT5G60910\n",
       "[16] AT3G54340->AT1G68480 AT3G54340->AT2G45660 AT3G54340->AT3G54340\n",
       "[19] AT3G54340->AT4G18960 AT3G54340->AT5G20240 AT3G54340->AT5G60910\n",
       "[22] AT3G54340->AT5G61850 AT3G54340->AT5G67450 AT4G18960->AT2G45660\n",
       "+ ... omitted several edges"
      ]
     },
     "metadata": {},
     "output_type": "display_data"
    },
    {
     "data": {
      "image/png": "[encoded data removed]",
      "text/plain": [
       "Plot with title \"\""
      ]
     },
     "metadata": {
      "image/png": {
       "height": 420,
       "width": 420
      },
      "text/plain": {
       "height": 420,
       "width": 420
      }
     },
     "output_type": "display_data"
    }
   ],
   "source": [
    "tfs.network <- induced.subgraph(gene.transcriptional.network,tfs)\n",
    "tfs.network\n",
    "plot.igraph(x = tfs.network,vertex.size=8,edge.arrow.size=0.5,vertex.label=\"\",vertex.color=\"purple\")\n",
    "write.graph(tfs.network,file=\"red_transcripcional_tf.gml\",format=\"gml\")"
   ]
  },
  {
   "cell_type": "markdown",
   "metadata": {},
   "source": [
    "### Análisis de la red de co-expresión génica"
   ]
  },
  {
   "cell_type": "markdown",
   "metadata": {},
   "source": [
    "La función transitivity de *igraph* nos permite medir la probabilidad de que los nodos estén conectados y puede llamarse también clustering coefficient."
   ]
  },
  {
   "cell_type": "code",
   "execution_count": 34,
   "metadata": {},
   "outputs": [
    {
     "data": {
      "text/html": [
       "0.687898089171974"
      ],
      "text/latex": [
       "0.687898089171974"
      ],
      "text/markdown": [
       "0.687898089171974"
      ],
      "text/plain": [
       "[1] 0.6878981"
      ]
     },
     "metadata": {},
     "output_type": "display_data"
    }
   ],
   "source": [
    "network.global.clustering.coefficient <- transitivity(tfs.network,type=\"global\")\n",
    "network.global.clustering.coefficient"
   ]
  },
  {
   "cell_type": "markdown",
   "metadata": {},
   "source": [
    "Este número 0.68789 está cercano a 1, por tanto, se puede considerar que el coeficiente de agrupamiento es alto, lo que indica que la red está conectada a nivel global."
   ]
  },
  {
   "cell_type": "markdown",
   "metadata": {},
   "source": [
    "Esta red formada por los factores de transcripción es una red que contiene 10 nodos (los FT) y 43 aristas. En un estudio de una red de co-expresión génica es fundamental estudiar los motivos de red, subgrafos dentro de la red que aparecen un número de veces significativo. Estos motivos son, por ejemplo, la autorregulación, anteroalimentación... "
   ]
  },
  {
   "cell_type": "code",
   "execution_count": 23,
   "metadata": {},
   "outputs": [
    {
     "data": {
      "image/png": "[encoded data removed]",
      "text/plain": [
       "Plot with title \"Degree distribution\""
      ]
     },
     "metadata": {
      "image/png": {
       "height": 420,
       "width": 420
      },
      "text/plain": {
       "height": 420,
       "width": 420
      }
     },
     "output_type": "display_data"
    }
   ],
   "source": [
    "network.degrees <- degree(tfs.network)\n",
    "hist(network.degrees,col=\"purple\",xlab=\"Node degree\", ylab=\"Probability\",main=\"Degree distribution\")"
   ]
  },
  {
   "cell_type": "markdown",
   "metadata": {},
   "source": [
    "Para asegurarnos que estamos ante una red libre de escala o no, se calcula el grado de todos los nodos y su frecuencia absoluta, posteriormente se realiza una transformada logarítmica, habiendo antes eliminado los nodos con grado 0 para poder aplicar el logaritmo y, por último, se realiza una regresión lineal. "
   ]
  },
  {
   "cell_type": "code",
   "execution_count": 24,
   "metadata": {},
   "outputs": [
    {
     "data": {
      "text/plain": [
       "\n",
       "Call:\n",
       "lm(formula = log10.degrees.frequencies ~ log10.node.degrees)\n",
       "\n",
       "Residuals:\n",
       "       5        6        9       10       11       12       13 \n",
       "-0.15159  0.16994 -0.08550  0.22738 -0.06293 -0.05315 -0.04415 \n",
       "\n",
       "Coefficients:\n",
       "                   Estimate Std. Error t value Pr(>|t|)\n",
       "(Intercept)          0.3326     0.3886   0.856    0.431\n",
       "log10.node.degrees  -0.2589     0.4035  -0.642    0.549\n",
       "\n",
       "Residual standard error: 0.1547 on 5 degrees of freedom\n",
       "Multiple R-squared:  0.07609,\tAdjusted R-squared:  -0.1087 \n",
       "F-statistic: 0.4118 on 1 and 5 DF,  p-value: 0.5493\n"
      ]
     },
     "metadata": {},
     "output_type": "display_data"
    }
   ],
   "source": [
    "# Cálculo de la frecuencia absoluta del grado de los nodos\n",
    "degree.frequencies <- table(network.degrees)\n",
    "# Eliminamos nodos con grado 0 para poder aplicar log10\n",
    "degree.frequencies.no.0 <- degree.frequencies[-1]\n",
    "# Transformación logarítmica\n",
    "log10.degrees.frequencies <- log10(degree.frequencies.no.0)\n",
    "log10.node.degrees <- log10(as.numeric(names(degree.frequencies.no.0)))\n",
    "# Regresión lineal\n",
    "lm.r <- lm(log10.degrees.frequencies ~ log10.node.degrees)\n",
    "summary(lm.r)"
   ]
  },
  {
   "cell_type": "markdown",
   "metadata": {},
   "source": [
    "Obtenemos de esta un p-value: 0.5493. Esto nos indica que aceptamos la hipótesis nula, en este caso, que la red no sea libre de escala. Por tanto, estamos ante una red no libre de escala. Realmente, se esperaba este resultado, debido a que nos encontramos con 10 factores de transcripción y no se esperaría un número bajo de genes con alta conectividad respecto a los demás(*hub*), sino que todos tuvieran aproximadamente la misma conectividad."
   ]
  },
  {
   "cell_type": "markdown",
   "metadata": {},
   "source": [
    "Para comprobar que un subgrafo determinado aparece de una forma significativa y, por tanto, es motivo de red se suelen generar un número alto de redes aleatorias con las mismas características para observar con qué frecuencia aparecen dichos subgrafos en estas redes aleatorias. Para ello, se utiliza la función *erdos.renyi.game* que  genera redes aleatorias que siguen una distribución de Poisson según el número de aristas y nodos (en este caso 40 y 10, respectivamente)."
   ]
  },
  {
   "cell_type": "code",
   "execution_count": 25,
   "metadata": {},
   "outputs": [
    {
     "data": {
      "image/png": "[encoded data removed]",
      "text/plain": [
       "Plot with title \"\""
      ]
     },
     "metadata": {
      "image/png": {
       "height": 420,
       "width": 420
      },
      "text/plain": {
       "height": 420,
       "width": 420
      }
     },
     "output_type": "display_data"
    }
   ],
   "source": [
    "random.graph <- erdos.renyi.game(n=10, p.or.m=40, type=\"gnm\", directed=TRUE, loops=TRUE)\n",
    "plot.igraph(x = random.graph,vertex.size=8,edge.arrow.size=0.5,vertex.label=\"\",vertex.color=\"purple\")"
   ]
  },
  {
   "cell_type": "markdown",
   "metadata": {},
   "source": [
    "El primer motivo de red que se suele estudiar es la autorregulación, que es el único motivo de red en el que sólo interviene un nodo. Para ello, se construye una matriz de adyacencia para los factores de transcrpción y para comprobar si la autorregulación es un motivo de red, se suma la diagonal de dicha matriz."
   ]
  },
  {
   "cell_type": "code",
   "execution_count": 26,
   "metadata": {},
   "outputs": [
    {
     "data": {
      "text/html": [
       "<table>\n",
       "<caption>A matrix: 10 × 10 of type dbl</caption>\n",
       "<thead>\n",
       "\t<tr><th></th><th scope=col>AT1G68480</th><th scope=col>AT2G01930</th><th scope=col>AT2G45660</th><th scope=col>AT3G19080</th><th scope=col>AT3G54340</th><th scope=col>AT4G18960</th><th scope=col>AT5G20240</th><th scope=col>AT5G60910</th><th scope=col>AT5G61850</th><th scope=col>AT5G67450</th></tr>\n",
       "</thead>\n",
       "<tbody>\n",
       "\t<tr><th scope=row>AT1G68480</th><td>1</td><td>0</td><td>0</td><td>0</td><td>0</td><td>0</td><td>0</td><td>0</td><td>0</td><td>0</td></tr>\n",
       "\t<tr><th scope=row>AT2G01930</th><td>1</td><td>1</td><td>1</td><td>1</td><td>1</td><td>1</td><td>1</td><td>1</td><td>1</td><td>0</td></tr>\n",
       "\t<tr><th scope=row>AT2G45660</th><td>0</td><td>0</td><td>1</td><td>0</td><td>1</td><td>0</td><td>0</td><td>0</td><td>0</td><td>0</td></tr>\n",
       "\t<tr><th scope=row>AT3G19080</th><td>0</td><td>1</td><td>1</td><td>0</td><td>0</td><td>0</td><td>0</td><td>1</td><td>0</td><td>0</td></tr>\n",
       "\t<tr><th scope=row>AT3G54340</th><td>1</td><td>0</td><td>1</td><td>0</td><td>1</td><td>1</td><td>1</td><td>1</td><td>1</td><td>1</td></tr>\n",
       "\t<tr><th scope=row>AT4G18960</th><td>0</td><td>0</td><td>1</td><td>0</td><td>1</td><td>1</td><td>1</td><td>1</td><td>0</td><td>0</td></tr>\n",
       "\t<tr><th scope=row>AT5G20240</th><td>1</td><td>0</td><td>1</td><td>0</td><td>1</td><td>1</td><td>1</td><td>1</td><td>1</td><td>0</td></tr>\n",
       "\t<tr><th scope=row>AT5G60910</th><td>0</td><td>0</td><td>1</td><td>0</td><td>0</td><td>0</td><td>0</td><td>1</td><td>0</td><td>0</td></tr>\n",
       "\t<tr><th scope=row>AT5G61850</th><td>0</td><td>0</td><td>0</td><td>0</td><td>0</td><td>0</td><td>1</td><td>1</td><td>0</td><td>0</td></tr>\n",
       "\t<tr><th scope=row>AT5G67450</th><td>1</td><td>0</td><td>1</td><td>0</td><td>0</td><td>0</td><td>0</td><td>1</td><td>0</td><td>1</td></tr>\n",
       "</tbody>\n",
       "</table>\n"
      ],
      "text/latex": [
       "A matrix: 10 × 10 of type dbl\n",
       "\\begin{tabular}{r|llllllllll}\n",
       "  & AT1G68480 & AT2G01930 & AT2G45660 & AT3G19080 & AT3G54340 & AT4G18960 & AT5G20240 & AT5G60910 & AT5G61850 & AT5G67450\\\\\n",
       "\\hline\n",
       "\tAT1G68480 & 1 & 0 & 0 & 0 & 0 & 0 & 0 & 0 & 0 & 0\\\\\n",
       "\tAT2G01930 & 1 & 1 & 1 & 1 & 1 & 1 & 1 & 1 & 1 & 0\\\\\n",
       "\tAT2G45660 & 0 & 0 & 1 & 0 & 1 & 0 & 0 & 0 & 0 & 0\\\\\n",
       "\tAT3G19080 & 0 & 1 & 1 & 0 & 0 & 0 & 0 & 1 & 0 & 0\\\\\n",
       "\tAT3G54340 & 1 & 0 & 1 & 0 & 1 & 1 & 1 & 1 & 1 & 1\\\\\n",
       "\tAT4G18960 & 0 & 0 & 1 & 0 & 1 & 1 & 1 & 1 & 0 & 0\\\\\n",
       "\tAT5G20240 & 1 & 0 & 1 & 0 & 1 & 1 & 1 & 1 & 1 & 0\\\\\n",
       "\tAT5G60910 & 0 & 0 & 1 & 0 & 0 & 0 & 0 & 1 & 0 & 0\\\\\n",
       "\tAT5G61850 & 0 & 0 & 0 & 0 & 0 & 0 & 1 & 1 & 0 & 0\\\\\n",
       "\tAT5G67450 & 1 & 0 & 1 & 0 & 0 & 0 & 0 & 1 & 0 & 1\\\\\n",
       "\\end{tabular}\n"
      ],
      "text/markdown": [
       "\n",
       "A matrix: 10 × 10 of type dbl\n",
       "\n",
       "| <!--/--> | AT1G68480 | AT2G01930 | AT2G45660 | AT3G19080 | AT3G54340 | AT4G18960 | AT5G20240 | AT5G60910 | AT5G61850 | AT5G67450 |\n",
       "|---|---|---|---|---|---|---|---|---|---|---|\n",
       "| AT1G68480 | 1 | 0 | 0 | 0 | 0 | 0 | 0 | 0 | 0 | 0 |\n",
       "| AT2G01930 | 1 | 1 | 1 | 1 | 1 | 1 | 1 | 1 | 1 | 0 |\n",
       "| AT2G45660 | 0 | 0 | 1 | 0 | 1 | 0 | 0 | 0 | 0 | 0 |\n",
       "| AT3G19080 | 0 | 1 | 1 | 0 | 0 | 0 | 0 | 1 | 0 | 0 |\n",
       "| AT3G54340 | 1 | 0 | 1 | 0 | 1 | 1 | 1 | 1 | 1 | 1 |\n",
       "| AT4G18960 | 0 | 0 | 1 | 0 | 1 | 1 | 1 | 1 | 0 | 0 |\n",
       "| AT5G20240 | 1 | 0 | 1 | 0 | 1 | 1 | 1 | 1 | 1 | 0 |\n",
       "| AT5G60910 | 0 | 0 | 1 | 0 | 0 | 0 | 0 | 1 | 0 | 0 |\n",
       "| AT5G61850 | 0 | 0 | 0 | 0 | 0 | 0 | 1 | 1 | 0 | 0 |\n",
       "| AT5G67450 | 1 | 0 | 1 | 0 | 0 | 0 | 0 | 1 | 0 | 1 |\n",
       "\n"
      ],
      "text/plain": [
       "          AT1G68480 AT2G01930 AT2G45660 AT3G19080 AT3G54340 AT4G18960 AT5G20240\n",
       "AT1G68480 1         0         0         0         0         0         0        \n",
       "AT2G01930 1         1         1         1         1         1         1        \n",
       "AT2G45660 0         0         1         0         1         0         0        \n",
       "AT3G19080 0         1         1         0         0         0         0        \n",
       "AT3G54340 1         0         1         0         1         1         1        \n",
       "AT4G18960 0         0         1         0         1         1         1        \n",
       "AT5G20240 1         0         1         0         1         1         1        \n",
       "AT5G60910 0         0         1         0         0         0         0        \n",
       "AT5G61850 0         0         0         0         0         0         1        \n",
       "AT5G67450 1         0         1         0         0         0         0        \n",
       "          AT5G60910 AT5G61850 AT5G67450\n",
       "AT1G68480 0         0         0        \n",
       "AT2G01930 1         1         0        \n",
       "AT2G45660 0         0         0        \n",
       "AT3G19080 1         0         0        \n",
       "AT3G54340 1         1         1        \n",
       "AT4G18960 1         0         0        \n",
       "AT5G20240 1         1         0        \n",
       "AT5G60910 1         0         0        \n",
       "AT5G61850 1         0         0        \n",
       "AT5G67450 1         0         1        "
      ]
     },
     "metadata": {},
     "output_type": "display_data"
    },
    {
     "data": {
      "text/html": [
       "8"
      ],
      "text/latex": [
       "8"
      ],
      "text/markdown": [
       "8"
      ],
      "text/plain": [
       "[1] 8"
      ]
     },
     "metadata": {},
     "output_type": "display_data"
    }
   ],
   "source": [
    "tfs.adjacency <- as.matrix(get.adjacency(tfs.network))\n",
    "tfs.adjacency\n",
    "autorregulation.in.tfs <- sum(diag(tfs.adjacency))\n",
    "autorregulation.in.tfs"
   ]
  },
  {
   "cell_type": "markdown",
   "metadata": {},
   "source": [
    "La suma de la diagonal de la matriz es 8. Ahora es necesario comprobar si se trata de un número significativo con respecto a redes generadas de forma aleatoria de las mismas características y, por tanto, poder concluir que se trata de un motivo de red."
   ]
  },
  {
   "cell_type": "markdown",
   "metadata": {},
   "source": [
    "Normalmente se generan en torno a 1000 redes aleatorias, si de estas 1000 menos de 50 (0.05%) tienen una autorregulación igual o mayor a la red de estudio, la autorregulación se trataría de un motivo de red. Se realiza un bucle el cual genera redes aleatorias 1000 veces y se calcula cuantas de estas redes aleatorias tienen un grado de autorregulación menor a la red de estudio."
   ]
  },
  {
   "cell_type": "code",
   "execution_count": 27,
   "metadata": {},
   "outputs": [
    {
     "data": {
      "text/html": [
       "4.039"
      ],
      "text/latex": [
       "4.039"
      ],
      "text/markdown": [
       "4.039"
      ],
      "text/plain": [
       "[1] 4.039"
      ]
     },
     "metadata": {},
     "output_type": "display_data"
    },
    {
     "data": {
      "text/html": [
       "1.42179481659644"
      ],
      "text/latex": [
       "1.42179481659644"
      ],
      "text/markdown": [
       "1.42179481659644"
      ],
      "text/plain": [
       "[1] 1.421795"
      ]
     },
     "metadata": {},
     "output_type": "display_data"
    },
    {
     "data": {
      "text/html": [
       "0"
      ],
      "text/latex": [
       "0"
      ],
      "text/markdown": [
       "0"
      ],
      "text/plain": [
       "[1] 0"
      ]
     },
     "metadata": {},
     "output_type": "display_data"
    }
   ],
   "source": [
    "autorregulation.random.graphs <- vector(length=1000, mode=\"numeric\")\n",
    "\n",
    "for (i in 1:1000)\n",
    "{\n",
    "  random.graph <- erdos.renyi.game(n=10, p.or.m=40, type=\"gnm\", directed=TRUE, loops=TRUE)\n",
    "  autorregulation.random.graphs[i] <- sum(diag(as.matrix(get.adjacency(random.graph))))\n",
    "}\n",
    "\n",
    "mean(autorregulation.random.graphs)\n",
    "sd(autorregulation.random.graphs)\n",
    "\n",
    "sum(autorregulation.random.graphs > autorregulation.in.tfs)/1000\n",
    "\n"
   ]
  },
  {
   "cell_type": "markdown",
   "metadata": {},
   "source": [
    "En este caso, se observa que la media de estas 1000 redes aleatorias es de en torno a 4 y la desviación típica está entre 1.4 y 1.5. Se observa que el número de redes aleatorias con un número mayor de autorregulación respecto a la red de estudio es cercano a 0. Por tanto, se puede concluir que la autorregulación es un motivo de red con un p-valor de 0.002 (por las 1000 redes generadas). "
   ]
  },
  {
   "cell_type": "markdown",
   "metadata": {},
   "source": [
    "A continuación, se van a estudiar los motivos de redes de tres nodos. La función utillizada en este caso es *graph.motifs* que recibe como entrada una red y un tamaño de subgafo, en este caso, 3. La salida es el número de veces que se encuentra ese subgrafo de 3 nodos en la red."
   ]
  },
  {
   "cell_type": "code",
   "execution_count": 28,
   "metadata": {},
   "outputs": [
    {
     "data": {
      "text/html": [
       "<ol class=list-inline>\n",
       "\t<li>&lt;NA&gt;</li>\n",
       "\t<li>&lt;NA&gt;</li>\n",
       "\t<li>18</li>\n",
       "\t<li>&lt;NA&gt;</li>\n",
       "\t<li>2</li>\n",
       "\t<li>1</li>\n",
       "\t<li>13</li>\n",
       "\t<li>17</li>\n",
       "\t<li>5</li>\n",
       "\t<li>14</li>\n",
       "\t<li>1</li>\n",
       "\t<li>0</li>\n",
       "\t<li>2</li>\n",
       "\t<li>8</li>\n",
       "\t<li>3</li>\n",
       "\t<li>1</li>\n",
       "</ol>\n"
      ],
      "text/latex": [
       "\\begin{enumerate*}\n",
       "\\item <NA>\n",
       "\\item <NA>\n",
       "\\item 18\n",
       "\\item <NA>\n",
       "\\item 2\n",
       "\\item 1\n",
       "\\item 13\n",
       "\\item 17\n",
       "\\item 5\n",
       "\\item 14\n",
       "\\item 1\n",
       "\\item 0\n",
       "\\item 2\n",
       "\\item 8\n",
       "\\item 3\n",
       "\\item 1\n",
       "\\end{enumerate*}\n"
      ],
      "text/markdown": [
       "1. &lt;NA&gt;\n",
       "2. &lt;NA&gt;\n",
       "3. 18\n",
       "4. &lt;NA&gt;\n",
       "5. 2\n",
       "6. 1\n",
       "7. 13\n",
       "8. 17\n",
       "9. 5\n",
       "10. 14\n",
       "11. 1\n",
       "12. 0\n",
       "13. 2\n",
       "14. 8\n",
       "15. 3\n",
       "16. 1\n",
       "\n",
       "\n"
      ],
      "text/plain": [
       " [1] NA NA 18 NA  2  1 13 17  5 14  1  0  2  8  3  1"
      ]
     },
     "metadata": {},
     "output_type": "display_data"
    },
    {
     "data": {
      "text/html": [
       "16"
      ],
      "text/latex": [
       "16"
      ],
      "text/markdown": [
       "16"
      ],
      "text/plain": [
       "[1] 16"
      ]
     },
     "metadata": {},
     "output_type": "display_data"
    }
   ],
   "source": [
    "occurrency.subgraph.three.nodes <- graph.motifs(tfs.network, size=3)\n",
    "occurrency.subgraph.three.nodes\n",
    "length(occurrency.subgraph.three.nodes)"
   ]
  },
  {
   "cell_type": "markdown",
   "metadata": {},
   "source": [
    "En este caso, se estudian en total 16 subgrafos (se obtiene con la función *length*). Además la variable *ocurrency.subgraph.three.nodes* te devuelve el número de veces que aparecen cada uno de los subgrafos. Por ejemplo, que un gen sea regulado por otros dos (subgrafo 3) aparece 18 veces. Este es el subgrafo observado en la imagen de abajo. "
   ]
  },
  {
   "cell_type": "code",
   "execution_count": 29,
   "metadata": {},
   "outputs": [
    {
     "data": {
      "image/png": "[encoded data removed]",
      "text/plain": [
       "Plot with title \"\""
      ]
     },
     "metadata": {
      "image/png": {
       "height": 420,
       "width": 420
      },
      "text/plain": {
       "height": 420,
       "width": 420
      }
     },
     "output_type": "display_data"
    }
   ],
   "source": [
    "plot.igraph(graph.isocreate(size=3, number=2))"
   ]
  },
  {
   "cell_type": "markdown",
   "metadata": {},
   "source": [
    "Ahora es necesario comprobar si el número de veces que aparece cada subgrafo es significativo con respecto a redes generadas de forma aleatoria con las mismas características, al igual que se hizo con el caso de la autorregulación."
   ]
  },
  {
   "cell_type": "code",
   "execution_count": 30,
   "metadata": {},
   "outputs": [
    {
     "data": {
      "text/html": [
       "<ol class=list-inline>\n",
       "\t<li>&lt;NA&gt;</li>\n",
       "\t<li>&lt;NA&gt;</li>\n",
       "\t<li>0.001</li>\n",
       "\t<li>&lt;NA&gt;</li>\n",
       "\t<li>1</li>\n",
       "\t<li>0.999</li>\n",
       "\t<li>0.027</li>\n",
       "\t<li>0.083</li>\n",
       "\t<li>0.106</li>\n",
       "\t<li>0.109</li>\n",
       "\t<li>0.778</li>\n",
       "\t<li>0.933</li>\n",
       "\t<li>0.964</li>\n",
       "\t<li>0.007</li>\n",
       "\t<li>0.543</li>\n",
       "\t<li>0.061</li>\n",
       "</ol>\n"
      ],
      "text/latex": [
       "\\begin{enumerate*}\n",
       "\\item <NA>\n",
       "\\item <NA>\n",
       "\\item 0.001\n",
       "\\item <NA>\n",
       "\\item 1\n",
       "\\item 0.999\n",
       "\\item 0.027\n",
       "\\item 0.083\n",
       "\\item 0.106\n",
       "\\item 0.109\n",
       "\\item 0.778\n",
       "\\item 0.933\n",
       "\\item 0.964\n",
       "\\item 0.007\n",
       "\\item 0.543\n",
       "\\item 0.061\n",
       "\\end{enumerate*}\n"
      ],
      "text/markdown": [
       "1. &lt;NA&gt;\n",
       "2. &lt;NA&gt;\n",
       "3. 0.001\n",
       "4. &lt;NA&gt;\n",
       "5. 1\n",
       "6. 0.999\n",
       "7. 0.027\n",
       "8. 0.083\n",
       "9. 0.106\n",
       "10. 0.109\n",
       "11. 0.778\n",
       "12. 0.933\n",
       "13. 0.964\n",
       "14. 0.007\n",
       "15. 0.543\n",
       "16. 0.061\n",
       "\n",
       "\n"
      ],
      "text/plain": [
       " [1]    NA    NA 0.001    NA 1.000 0.999 0.027 0.083 0.106 0.109 0.778 0.933\n",
       "[13] 0.964 0.007 0.543 0.061"
      ]
     },
     "metadata": {},
     "output_type": "display_data"
    }
   ],
   "source": [
    "# Generación de una matriz de 16 columnas y 1000 filas. \n",
    "\n",
    "motifs.3.random.graph <- matrix(0,nrow=1000, ncol=16)\n",
    "\n",
    "# Generación de las 1000 redes aleatorias para cada uno de los 16 subgrafos.\n",
    "\n",
    "for (i in 1:1000)\n",
    "{\n",
    "  random.graph <- erdos.renyi.game(n=10, p.or.m=40, type=\"gnm\", directed=TRUE, loops=TRUE)\n",
    "  motifs.3.random.graph[i,] <- graph.motifs(random.graph, size=3)\n",
    "}\n",
    "\n",
    "# Se guardarán todos los p-valores en un vector denominado p.valor cuya longitud será 16, el número de subgrafos posibles.\n",
    "\n",
    "p.valor <- c()\n",
    "\n",
    "for (i in 1:16)\n",
    "{\n",
    "medias <- mean(motifs.3.random.graph[,i])\n",
    "sds <- sd(motifs.3.random.graph[,i])\n",
    "p.valor[i] <- sum(motifs.3.random.graph[,i] > occurrency.subgraph.three.nodes[i])/1000\n",
    "}\n",
    "\n",
    "p.valor"
   ]
  },
  {
   "cell_type": "markdown",
   "metadata": {},
   "source": [
    "Los subgrafos cuyos valores de p-valor son inferiores a 0.05 son los subgrafos número 3, 7 y 14 (imagen de abajo), es decir, son los únicos que se pueden considerar motivos de red en esta red."
   ]
  },
  {
   "cell_type": "code",
   "execution_count": 48,
   "metadata": {},
   "outputs": [
    {
     "data": {
      "image/png": "[encoded data removed]",
      "text/plain": [
       "Plot with title \"\""
      ]
     },
     "metadata": {
      "image/png": {
       "height": 420,
       "width": 420
      },
      "text/plain": {
       "height": 420,
       "width": 420
      }
     },
     "output_type": "display_data"
    }
   ],
   "source": [
    "plot.igraph(graph.isocreate(size=3, number=13))"
   ]
  },
  {
   "cell_type": "markdown",
   "metadata": {},
   "source": [
    "Este motivo de red consiste en dos factores de transcripción que se regulan entre sí y a la vez regulan, ambos, a un tercero. Por ejemplo, en la situación en la que se active el gen 1 por alguna señal, este regularía a 2 y a 3, y este último, regularía a 2 y a 1. El subgrafo número 7 consiste en que un factor de transcripción regule a dos factores diferentes de la red. Por último, el subgrafo número 3 consiste en que dos factores de transcripción diferentes regulan a un tercer factor de transcripción"
   ]
  },
  {
   "cell_type": "markdown",
   "metadata": {},
   "source": [
    "# CONCLUSIONES"
   ]
  },
  {
   "cell_type": "markdown",
   "metadata": {},
   "source": [
    "Tras analizar en profundidad la red construida por los 10 factores de transcripción estudiados se pueden llegar a una serie de conclusiones. "
   ]
  },
  {
   "cell_type": "markdown",
   "metadata": {},
   "source": [
    "### Motivos de red en la floración: bucles de retroalimentación y autorregulación"
   ]
  },
  {
   "cell_type": "markdown",
   "metadata": {},
   "source": [
    "Al construir la red de factores de transcripción se concluyó que existían en dicha red 3 motivos de redes. El primero consiste en que un facto de transcripción regula a otros dos, simultaneamente. El segundo de ellos se trata de un factor de transcripción que es regulado por otros dos. Por último, el más interesante a nivel biológico por su complejidad en la regulación es un motivo de red en el cual dos factores de transcripción se regulan mutuamente y a la vez regulan, ambos dos, a otro factor de transcripción. Este último motivo de red se trata de un bucle de retroalimentación doble. Este bucle suele ser motivo de red en procesos relacionados con el desarrollo, como es este caso, el desarrollo floral. Con el análisis realizado en este trabajo no puede conocerse si se trata de un bucle positivo o negativo, ya que conocemos las conexiones, pero no si esta regulación es positiva o negativa."
   ]
  },
  {
   "cell_type": "markdown",
   "metadata": {},
   "source": [
    "Además de los motivos de redes de tres genes aparece como motivo de red la autorregulación, que tampoco se puede saber si es positiva o negativa. Aun así, se conoce que la autorregulación aparece en sistemas sensoriales, como es el caso de los factores de transcripción encargados de la floración. Estos dependen de señales abióticas, siendo la más importante el fotoperiodo. Aunque no sepamos si los motivos de red obtenidos sean positivos o negativos se puede recurrir a la bibliografía para observar como son las interacciones entre los genes estudiados. "
   ]
  },
  {
   "cell_type": "markdown",
   "metadata": {},
   "source": [
    " <img src=\"images/red_paper.jpg\">"
   ]
  },
  {
   "cell_type": "markdown",
   "metadata": {},
   "source": [
    "En esta red obtenida en otro estudio relacionado con el desarrollo floral (Key developmental transitions during flower morphogenesis and their regulation) muestra cómo genes relacionados con este desarrollo (algunos estudiados en este análisis como AG, AP1 y LFY) presentan, entre otros motivos, un bucle de retroalimentación positivo, además de una regulación positiva por parte de AP1. \n"
   ]
  },
  {
   "cell_type": "markdown",
   "metadata": {},
   "source": [
    "### Alta conectividad entre los genes relacionados con la floración"
   ]
  },
  {
   "cell_type": "markdown",
   "metadata": {},
   "source": [
    "Con la anterior imagen y resultados, a su vez, se puede comprobar la gran conexión que presentan los factores de transcripción relacionados con la floración. Como sabemos, se trata de un proceso muy regulado, por tanto, se esperaba una alta transitividad tal y como hemos obtenido (0.68, más cercano a 1 que 0). \n",
    "Además, con el estudio de si se trata o no de una red libre de escala, se ha obtenido un p.valor que permite aceptar la hipótesis nula de que la red es no libre de escala, es decir, ninguno de los factores de transcipción utilizados tiene más interacciones que el resto, ni se trata de un gen central en la red (*hub*)."
   ]
  },
  {
   "cell_type": "markdown",
   "metadata": {},
   "source": [
    "Una hipótesis de que en las redes de desarrollo floral no haya ningún gen central, puede tener un significado evolutivo. La floración es una etapa fundamental en el desarrollo reproductivo de la planta, por tanto, está muy regulada y controlada por diferentes genes. El hecho de que ninguno sea un *hub* puede deberse a que evolutivamente se favorece que los procesos estén regulados por diferentes genes y no haya sólo un gen esencial, ya que, si ocurriera cualquier mutación o represión de dicho gen, la activación del proceso podría fallar."
   ]
  },
  {
   "cell_type": "markdown",
   "metadata": {},
   "source": [
    " <img src=\"images/cytoscape.png\">"
   ]
  },
  {
   "cell_type": "markdown",
   "metadata": {},
   "source": [
    "Observando la red obtenida gracias al programa *Cytoscape*, se puede comprobar como la conexión de la red es muy alta siendo el número de aristas 27.399, además, todos los nodos 15.566 se encuentran agrupados en varios clúster de mayor y menor tamaño. A partir de esta red, se pueden obtener pocas conclusiones, ya que, el número de genes que se activan por estos 10 factores de transpción es muy elevado (casi la mitad de todos los genes de *A.thaliana*. "
   ]
  },
  {
   "cell_type": "markdown",
   "metadata": {},
   "source": [
    "### Mecanismos de la red de co-expresión génica del desarrollo floral"
   ]
  },
  {
   "cell_type": "markdown",
   "metadata": {},
   "source": [
    "Para terminar de concluir cómo se relacionan entre sí los factores de transcripción estudiados se puede recurrir a la bibliografía. Se sabe que la red génica que regula el desarrollo floral es muy compleja y envuelve a una gran cantidad de genes, no únicamente los 10 estudiados en este análisis. Durante el desarrollo ocurre una activación y represión sucesiva de diferentes factores de transcripción claves para la maduración de la flor, entre ellos algunos de los estudiados. Por ejemplo, los genes LFY y AP1 se activan mutuamente creando un bucle de retroalimentación, cuando los días pasan de fotoperiodo corto a largo, activando a otros genes como AGAMOUS e, indirectamente se llega a la activación de otros genes importantes como AP3 y PISTILLATA. La activación de LFY y paralelamente de AP1, permite que los primordios florales se conviertan en la flor madura, gracias, en parte, a la autorregulación positiva de AP1 y una inactavación de genes vegetativos. AP3 y PISTILLATA forman un heterodímero que interactúa con AP1 y otro gen SEPATALLA, mostrando la complejidad de interacciones presentes entre los factores.\n",
    "\n",
    "Además de estos genes mencionados necesarios para el desarrollo de la flor, también son necesarios otros genes de la red como JAGGED. Este gen se encarga de controlar la morfogénesis de los órganos laterales de la planta. También encontramos en la red genes que actúan negativamente como EBS. Este gen se encarga de regular negativamente la floración a través de una regulación de la cromatina, es uno de los represores principales de FT, uno de los factores de transcripción principales en la floración. También se ha visto que otra proteína de nuestra red como SOC1 puede regular negativamente. \n",
    "\n",
    "Como se observa, esta red de 10 factores de transcripción tiene 40 interacciones entre ellos, lo que es una resumida representación de la complejidad del desarrollo floral. Este desarrollo depende de estímulos externos como la vernalización, la temperatura o el fotoperiodo que tiene que ser integrado, interviniendo muchos genes en esta función. También es necesario sincronizar estas señales con la formación de órganos laterales que después derivarán en órganos complejor reproductivos como son las flores. Estas tienen sépalos, pétalos, óvulo y estambres, estre otras partes, y cada una de estas tienen una compleja regulación en la que intervienen cientos de factores de transcripción generando una compleja e intrincada red de co-expresión. "
   ]
  },
  {
   "cell_type": "markdown",
   "metadata": {},
   "source": [
    "# BIBLIOGRAFÍA"
   ]
  },
  {
   "cell_type": "markdown",
   "metadata": {},
   "source": [
    "* Bates D, Carey V et al. Yang, J. Zhang. Bioconductor (Web Site), http://www.bioconductor.org/, 2002.\n",
    "* R Core Team (2019). R: A language and environment for statistical computing. R Foundation for\n",
    "  Statistical Computing, Vienna, Austria. URL https://www.R-project.org/.\n",
    "* Orchestrating high-throughput genomic analysis with Bioconductor. W. Huber, V.J. Carey, R. Gentleman, ..., M. Morgan Nature Methods, 2015:12, 115. https://www.bioconductor.org/\n",
    "* Heinz S, Benner C, Spann N, Bertolino E et al. Simple Combinations of Lineage-Determining Transcription Factors Prime cis-  Regulatory Elements Required for Macrophage and B Cell Identities. Mol Cell 2010 May 28;38(4):576-589. PMID: 20513432\n",
    "* Guangchuang Yu, Li-Gen Wang, and Qing-Yu He. ChIPseeker: an R/Bioconductor package for ChIP\n",
    "  peak annotation, comparison and visualization. Bioinformatics 2015, 31(14):2382-2383\n",
    "* Marc Carlson and Bioconductor Package Maintainer (2015). TxDb.Athaliana.BioMart.plantsmart28:\n",
    "  Annotation package for TxDb object(s). R package version 3.2.2.\n",
    "* Guangchuang Yu, Li-Gen Wang, Yanyan Han and Qing-Yu He. clusterProfiler: an R package for\n",
    "  comparing biological themes among gene clusters. OMICS: A Journal of Integrative Biology 2012,\n",
    "  16(5):284-287\n",
    "* Marc Carlson (2019). org.At.tair.db: Genome wide annotation for Arabidopsis. R package version\n",
    "  3.8.2.\n",
    "* Doris Wagner. Key developmental transitions during flower morphogenesis and their regulation. Current Opinion in Genetics & Development. Volume 45, August 2017, Pages 44-50\n",
    "* Wuest SE, O'Maoileidigh DS, Rae L, Kwasniewska K et al. Molecular basis for the specification of floral organs by APETALA3 and PISTILLATA. Proc Natl Acad Sci U S A 2012 Aug 14;109(33):13452-7. PMID: 22847437\n",
    "* ÓMaoiléidigh DS, Wuest SE, Rae L, Raganelli A et al. Control of reproductive floral organ identity specification in Arabidopsis by the C function regulator AGAMOUS. Plant Cell 2013 Jul;25(7):2482-503. PMID: 23821642\n",
    "* Li Z, Fu X, Wang Y, Liu R et al. Polycomb-mediated gene silencing by the BAH-EMF1 complex in plants. Nat Genet 2018 Sep;50(9):1254-1261. PMID: 30082786\n",
    "* Goslin K, Zheng B, Serrano-Mislata A, Rae L et al. Transcription Factor Interplay between LEAFY and APETALA1/CAULIFLOWER during Floral Initiation. Plant Physiol 2017 Jun;174(2):1097-1109. PMID: 28385730\n",
    "* Immink RG, Posé D, Ferrario S, Ott F et al. Characterization of SOC1's central role in flowering by the identification of its upstream and downstream regulators. Plant Physiol 2012 Sep;160(1):433-49. PMID: 22791302\n",
    "* Xiao J, Jin R, Yu X, Shen M et al. Cis and trans determinants of epigenetic silencing by Polycomb repressive complex 2 in Arabidopsis. Nat Genet 2017 Oct;49(10):1546-1552. PMID: 28825728\n",
    "* Jégu T, Veluchamy A, Ramirez-Prado JS, Rizzi-Paillet C et al. The Arabidopsis SWI/SNF protein BAF60 mediates seedling growth control by modulating DNA accessibility. Genome Biol 2017 Jun 15;18(1):114. PMID: 28619072\n",
    "* Schiessl K, Muiño JM, Sablowski R. Arabidopsis JAGGED links floral organ patterning to tissue growth by repressing Kip-related cell cycle inhibitors. Proc Natl Acad Sci U S A 2014 Feb 18;111(7):2830-5. PMID: 24497510\n",
    "* Bemer M, van Mourik H, Muiño JM, Ferrándiz C et al. FRUITFULL controls SAUR10 expression and regulates Arabidopsis growth and architecture. J Exp Bot 2017 Jun 15;68(13):3391-3403. PMID: 28586421\n",
    "* Morgat A, Lombardot T, Coudert E, Axelsen K, Neto TB, Gehant S, Bansal P, Bolleman J, Gasteiger E, de Castro E, Baratin D, Pozzato M, Xenarios I, Poux S, Redaschi N, Bridge A, UniProt Consortium. Enzyme annotation in UniProtKB using Rhea. Bioinformatics (2019)\n",
    "* Csardi G, Nepusz T (2006). “The igraph software package for complex network research.” InterJournal, Complex Systems, 1695. http://igraph.org.\n"
   ]
  }
 ],
 "metadata": {
  "kernelspec": {
   "display_name": "R",
   "language": "R",
   "name": "ir"
  },
  "language_info": {
   "codemirror_mode": "r",
   "file_extension": ".r",
   "mimetype": "text/x-r-source",
   "name": "R",
   "pygments_lexer": "r",
   "version": "3.6.1"
  }
 },
 "nbformat": 4,
 "nbformat_minor": 2
}
